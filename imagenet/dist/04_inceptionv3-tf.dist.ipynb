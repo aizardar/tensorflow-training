{
 "cells": [
  {
   "cell_type": "code",
   "execution_count": 1,
   "metadata": {},
   "outputs": [],
   "source": [
    "import os\n",
    "import ipcmagic"
   ]
  },
  {
   "cell_type": "code",
   "execution_count": 2,
   "metadata": {},
   "outputs": [
    {
     "name": "stdout",
     "output_type": "stream",
     "text": [
      "IPCluster is ready! (5 seconds)\n"
     ]
    }
   ],
   "source": [
    "%ipcluster start -n {int(os.environ['SLURM_NNODES'])} --mpi"
   ]
  },
  {
   "cell_type": "code",
   "execution_count": 3,
   "metadata": {},
   "outputs": [
    {
     "data": {
      "text/plain": [
       "\u001b[0;31mOut[0:1]: \u001b[0m(0, 2)"
      ]
     },
     "metadata": {
      "after": [],
      "completed": "2020-09-03T14:39:08.522307",
      "data": {},
      "engine_id": 0,
      "engine_uuid": "487018c3-346d62a44fa6457b83f18be5",
      "error": null,
      "execute_input": "import os\nimport glob\nimport types\nimport tensorflow as tf\nfrom datetime import datetime\nfrom tb_cscs import tensorboard\n\nstrategy = tf.distribute.experimental.MultiWorkerMirroredStrategy(\n    cluster_resolver=tf.distribute.cluster_resolver.SlurmClusterResolver(),\n    communication=tf.distribute.experimental.CollectiveCommunication.NCCL,\n)\n\nnum_workers = int(os.environ['SLURM_NNODES'])\nnode_id = int(os.environ['SLURM_NODEID'])\n\nnode_id, num_workers\n",
      "execute_result": {
       "data": {
        "text/plain": "(0, 2)"
       },
       "execution_count": 1,
       "metadata": {}
      },
      "follow": [],
      "msg_id": "2e361145-f028d0927db488950c3212af_1",
      "outputs": [],
      "received": "2020-09-03T14:39:08.523686",
      "started": "2020-09-03T14:39:05.548733",
      "status": "ok",
      "stderr": "",
      "stdout": "",
      "submitted": "2020-09-03T14:39:05.546406"
     },
     "output_type": "display_data"
    },
    {
     "data": {
      "text/plain": [
       "\u001b[0;31mOut[1:1]: \u001b[0m(1, 2)"
      ]
     },
     "metadata": {
      "after": [],
      "completed": "2020-09-03T14:39:16.607225",
      "data": {},
      "engine_id": 1,
      "engine_uuid": "874481b5-424bca3c2f2ba51bc2d7d833",
      "error": null,
      "execute_input": "import os\nimport glob\nimport types\nimport tensorflow as tf\nfrom datetime import datetime\nfrom tb_cscs import tensorboard\n\nstrategy = tf.distribute.experimental.MultiWorkerMirroredStrategy(\n    cluster_resolver=tf.distribute.cluster_resolver.SlurmClusterResolver(),\n    communication=tf.distribute.experimental.CollectiveCommunication.NCCL,\n)\n\nnum_workers = int(os.environ['SLURM_NNODES'])\nnode_id = int(os.environ['SLURM_NODEID'])\n\nnode_id, num_workers\n",
      "execute_result": {
       "data": {
        "text/plain": "(1, 2)"
       },
       "execution_count": 1,
       "metadata": {}
      },
      "follow": [],
      "msg_id": "2e361145-f028d0927db488950c3212af_2",
      "outputs": [],
      "received": "2020-09-03T14:39:16.609137",
      "started": "2020-09-03T14:39:05.549052",
      "status": "ok",
      "stderr": "",
      "stdout": "",
      "submitted": "2020-09-03T14:39:05.546639"
     },
     "output_type": "display_data"
    }
   ],
   "source": [
    "%%px\n",
    "import os\n",
    "import glob\n",
    "import types\n",
    "import tensorflow as tf\n",
    "import tensorflow_addons as tfa\n",
    "from datetime import datetime\n",
    "from tb_cscs import tensorboard\n",
    "\n",
    "strategy = tf.distribute.experimental.MultiWorkerMirroredStrategy(\n",
    "    cluster_resolver=tf.distribute.cluster_resolver.SlurmClusterResolver(),\n",
    "    communication=tf.distribute.experimental.CollectiveCommunication.NCCL,\n",
    ")\n",
    "\n",
    "num_workers = int(os.environ['SLURM_NNODES'])\n",
    "node_id = int(os.environ['SLURM_NODEID'])\n",
    "\n",
    "node_id, num_workers"
   ]
  },
  {
   "cell_type": "code",
   "execution_count": 4,
   "metadata": {},
   "outputs": [],
   "source": [
    "%%px\n",
    "image_shape = (224, 224)\n",
    "batch_size = 128 * num_workers\n",
    "\n",
    "def decode(serialized_example):\n",
    "    features = tf.io.parse_single_example(\n",
    "        serialized_example,\n",
    "        features={\n",
    "            'image/encoded': tf.io.FixedLenFeature([], tf.string),\n",
    "            'image/class/label': tf.io.FixedLenFeature([], tf.int64),\n",
    "        })\n",
    "    image = tf.image.decode_jpeg(features['image/encoded'], channels=3)\n",
    "    image = tf.image.resize(image, image_shape, method='bicubic')\n",
    "    label = tf.cast(features['image/class/label'], tf.int64) - 1  # [0-999]\n",
    "    return image, label\n",
    "\n",
    "list_of_files = glob.glob('/scratch/snx3000/stud50/imagenet/train*')\n",
    "\n",
    "AUTO = tf.data.experimental.AUTOTUNE\n",
    "dataset = (tf.data.TFRecordDataset(list_of_files, num_parallel_reads=AUTO)\n",
    "           .map(decode, num_parallel_calls=AUTO)\n",
    "           .batch(batch_size)\n",
    "           .prefetch(AUTO)\n",
    "          )"
   ]
  },
  {
   "cell_type": "code",
   "execution_count": 5,
   "metadata": {},
   "outputs": [],
   "source": [
    "%%px\n",
    "with strategy.scope():\n",
    "    model = tf.keras.applications.InceptionV3(weights=None,\n",
    "                                              input_shape=(*image_shape, 3),\n",
    "                                              classes=1000)\n",
    "\n",
    "    optimizer = tfa.optimizers.LAMB(lr=1e-3 * (num_workers ** 0.5))\n",
    "\n",
    "    model.compile(optimizer=optimizer,\n",
    "                  loss='sparse_categorical_crossentropy',\n",
    "                  metrics=['accuracy'])\n",
    "\n",
    "tb_callback = tf.keras.callbacks.TensorBoard(log_dir=os.path.join('inceptionv3_logs',\n",
    "                                                                  datetime.now().strftime(\"%d-%H%M\")),\n",
    "                                             histogram_freq=1,\n",
    "                                             profile_batch='80,100')"
   ]
  },
  {
   "cell_type": "code",
   "execution_count": 6,
   "metadata": {},
   "outputs": [
    {
     "name": "stdout",
     "output_type": "stream",
     "text": [
      "200/200 [==============================] - 110s 550ms/step - loss: 6.8728 - accuracy: 0.0033\n",
      "200/200 [==============================] - 110s 550ms/step - loss: 6.8728 - accuracy: 0.0033\n"
     ]
    }
   ],
   "source": [
    "%%px\n",
    "fit = model.fit(dataset,\n",
    "                steps_per_epoch=100,\n",
    "                epochs=1,\n",
    "                callbacks=[tb_callback])"
   ]
  },
  {
   "cell_type": "code",
   "execution_count": 7,
   "metadata": {},
   "outputs": [],
   "source": [
    "%reload_ext tensorboard"
   ]
  },
  {
   "cell_type": "code",
   "execution_count": 8,
   "metadata": {},
   "outputs": [
    {
     "data": {
      "text/html": [
       "\n",
       "      <iframe id=\"tensorboard-frame-b06dd071f5f39aec\" width=\"100%\" height=\"800\" frameborder=\"0\">\n",
       "      </iframe>\n",
       "      <script>\n",
       "        (function() {\n",
       "          const frame = document.getElementById(\"tensorboard-frame-b06dd071f5f39aec\");\n",
       "          const url = new URL(\"https://dealmeih.jupyter.cscs.ch/hub/user-redirect/proxy/6006/\", window.location);\n",
       "          const port = 0;\n",
       "          if (port) {\n",
       "            url.port = port;\n",
       "          }\n",
       "          frame.src = url;\n",
       "        })();\n",
       "      </script>\n",
       "    "
      ],
      "text/plain": [
       "<IPython.core.display.HTML object>"
      ]
     },
     "metadata": {},
     "output_type": "display_data"
    }
   ],
   "source": [
    "%tensorboard --logdir=inceptionv3_logs"
   ]
  },
  {
   "cell_type": "code",
   "execution_count": 9,
   "metadata": {},
   "outputs": [],
   "source": [
    "%ipcluster stop"
   ]
  }
 ],
 "metadata": {
  "kernelspec": {
   "display_name": "tf-multigpu",
   "language": "python",
   "name": "tf-multigpu"
  },
  "language_info": {
   "codemirror_mode": {
    "name": "ipython",
    "version": 3
   },
   "file_extension": ".py",
   "mimetype": "text/x-python",
   "name": "python",
   "nbconvert_exporter": "python",
   "pygments_lexer": "ipython3",
   "version": "3.7.4"
  }
 },
 "nbformat": 4,
 "nbformat_minor": 4
}
