{
 "cells": [
  {
   "cell_type": "code",
   "execution_count": 1,
   "metadata": {},
   "outputs": [],
   "source": [
    "import ipcmagic"
   ]
  },
  {
   "cell_type": "code",
   "execution_count": 2,
   "metadata": {},
   "outputs": [
    {
     "name": "stdout",
     "output_type": "stream",
     "text": [
      "IPCluster is ready! (6 seconds)\n"
     ]
    }
   ],
   "source": [
    "%ipcluster start -n 2 --mpi"
   ]
  },
  {
   "cell_type": "code",
   "execution_count": 3,
   "metadata": {},
   "outputs": [],
   "source": [
    "%%px\n",
    "import os\n",
    "import tensorflow as tf\n",
    "import horovod.tensorflow.keras as hvd\n",
    "from datetime import datetime"
   ]
  },
  {
   "cell_type": "code",
   "execution_count": 4,
   "metadata": {},
   "outputs": [],
   "source": [
    "%%px\n",
    "hvd.init()\n",
    "\n",
    "\n",
    "image_shape = (224, 224)\n",
    "batch_size = 128\n",
    "\n",
    "def decode(serialized_example):\n",
    "    features = tf.io.parse_single_example(\n",
    "        serialized_example,\n",
    "        features={\n",
    "            'image/encoded': tf.io.FixedLenFeature([], tf.string),\n",
    "            'image/class/label': tf.io.FixedLenFeature([], tf.int64),\n",
    "        })\n",
    "    image = tf.image.decode_jpeg(features['image/encoded'], channels=3)\n",
    "    image = tf.image.resize(image, image_shape, method='bicubic')\n",
    "    label = tf.cast(features['image/class/label'], tf.int64) - 1  # [0-999]\n",
    "    return image, label\n",
    "\n",
    "\n",
    "data_dir = '/scratch/snx3000/stud50/imagenet/'\n",
    "# We split by hand the files before sending them to each worker\n",
    "# the we interleave withing the resulting groups on each worker.\n",
    "num_files_per_worker = 80\n",
    "list_of_files = [os.path.join(data_dir, f) for f in os.listdir(data_dir)]\n",
    "list_of_files = [list_of_files[i: i + num_files_per_worker]\n",
    "                 for i in range(len(list_of_files) // num_files_per_worker)][hvd.rank()]\n",
    "\n",
    "dataset = tf.data.Dataset.list_files(list_of_files)\n",
    "dataset = dataset.interleave(tf.data.TFRecordDataset,\n",
    "                             cycle_length=num_files_per_worker,\n",
    "                             block_length=1,\n",
    "                             num_parallel_calls=12)\n",
    "dataset = dataset.map(decode)\n",
    "dataset = dataset.batch(128)\n",
    "dataset = dataset.prefetch(tf.data.experimental.AUTOTUNE)\n",
    "\n",
    "model = tf.keras.applications.InceptionV3(weights=None,\n",
    "                                          input_shape=(*image_shape, 3),\n",
    "                                          classes=1001)\n",
    "\n",
    "optimizer = tf.keras.optimizers.SGD(lr=0.01, momentum=0.9)\n",
    "optimizer = hvd.DistributedOptimizer(optimizer)\n",
    "\n",
    "model.compile(optimizer=optimizer,\n",
    "              loss='sparse_categorical_crossentropy',\n",
    "              metrics=['accuracy'])\n",
    "\n",
    "tb_callback = tf.keras.callbacks.TensorBoard(log_dir=os.path.join('inceptionv3_logs',\n",
    "                                                                  datetime.now().strftime(\"%d-%H%M\")),\n",
    "                                             histogram_freq=1,\n",
    "                                             profile_batch='85,95')\n",
    "\n",
    "hvd_callback = hvd.callbacks.BroadcastGlobalVariablesCallback(0)"
   ]
  },
  {
   "cell_type": "code",
   "execution_count": 5,
   "metadata": {},
   "outputs": [
    {
     "name": "stdout",
     "output_type": "stream",
     "text": [
      "100/100 [==============================] - 52s 523ms/step - loss: 7.0084 - accuracy: 0.0023\n",
      "100/100 [==============================] - 52s 523ms/step - loss: 7.0105 - accuracy: 0.0023\n"
     ]
    }
   ],
   "source": [
    "%%px\n",
    "fit = model.fit(dataset.take(100),\n",
    "                epochs=1,\n",
    "                callbacks=[hvd_callback, tb_callback])"
   ]
  },
  {
   "cell_type": "code",
   "execution_count": 6,
   "metadata": {},
   "outputs": [],
   "source": [
    "%load_ext tensorboard"
   ]
  },
  {
   "cell_type": "code",
   "execution_count": 7,
   "metadata": {},
   "outputs": [
    {
     "data": {
      "text/plain": [
       "Reusing TensorBoard on port 6006 (pid 31146), started 0:05:06 ago. (Use '!kill 31146' to kill it.)"
      ]
     },
     "metadata": {},
     "output_type": "display_data"
    },
    {
     "data": {
      "text/html": [
       "\n",
       "      <iframe id=\"tensorboard-frame-a0591ee40ea7677d\" width=\"100%\" height=\"800\" frameborder=\"0\">\n",
       "      </iframe>\n",
       "      <script>\n",
       "        (function() {\n",
       "          const frame = document.getElementById(\"tensorboard-frame-a0591ee40ea7677d\");\n",
       "          const url = new URL(\"https://sarafael.jupyter.cscs.ch/hub/user-redirect/proxy/6006/\", window.location);\n",
       "          const port = 0;\n",
       "          if (port) {\n",
       "            url.port = port;\n",
       "          }\n",
       "          frame.src = url;\n",
       "        })();\n",
       "      </script>\n",
       "    "
      ],
      "text/plain": [
       "<IPython.core.display.HTML object>"
      ]
     },
     "metadata": {},
     "output_type": "display_data"
    }
   ],
   "source": [
    "%tensorboard --logdir=inceptionv3_logs"
   ]
  },
  {
   "cell_type": "code",
   "execution_count": 8,
   "metadata": {},
   "outputs": [],
   "source": [
    "%ipcluster stop"
   ]
  }
 ],
 "metadata": {
  "kernelspec": {
   "display_name": "tf-multigpu",
   "language": "python",
   "name": "tf-multigpu"
  },
  "language_info": {
   "codemirror_mode": {
    "name": "ipython",
    "version": 3
   },
   "file_extension": ".py",
   "mimetype": "text/x-python",
   "name": "python",
   "nbconvert_exporter": "python",
   "pygments_lexer": "ipython3",
   "version": "3.7.4"
  }
 },
 "nbformat": 4,
 "nbformat_minor": 4
}
